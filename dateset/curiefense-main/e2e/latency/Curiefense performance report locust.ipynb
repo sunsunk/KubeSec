{
 "cells": [
  {
   "cell_type": "markdown",
   "metadata": {},
   "source": [
    "# Curiefense performance report\n",
    "## Set measurement folder"
   ]
  },
  {
   "cell_type": "code",
   "execution_count": null,
   "metadata": {},
   "outputs": [],
   "source": [
    "import os\n",
    "import json\n",
    "import glob\n",
    "import statistics\n",
    "import pathlib\n",
    "\n",
    "import pandas as pd\n",
    "from collections import defaultdict\n",
    "import matplotlib.pyplot as plt\n",
    "\n",
    "DEFAULT_RESULTS_DIR = pathlib.Path(\"./stats-locust\")\n",
    "RESULTS_DIR = pathlib.Path(os.environ.get(\"RESULTS_DIR\", DEFAULT_RESULTS_DIR))\n",
    "print(f\"Performance measurements will be read from {RESULTS_DIR}\")"
   ]
  },
  {
   "cell_type": "markdown",
   "metadata": {},
   "source": [
    "## Sample data"
   ]
  },
  {
   "cell_type": "markdown",
   "metadata": {},
   "source": [
    "### Sample jaeger measurement\n",
    "Two *spans* are present for each query: one for service `istio-ingressgateway`, one for service `ratings.bookinfo`. Related traces have the same `traceID` attribute. The span for `ratings.bookinfo` has a non-empty `references` attribute, and is smaller than the span for `istio-ingressgateway`."
   ]
  },
  {
   "cell_type": "code",
   "execution_count": null,
   "metadata": {},
   "outputs": [],
   "source": [
    "j = json.load((RESULTS_DIR / \"cf-default-config/jaeger-uc-10-0.json\").open())\n",
    "j"
   ]
  },
  {
   "cell_type": "markdown",
   "metadata": {},
   "source": [
    "## Create a pandas dataframe from jaeger, locust & performance outputs"
   ]
  },
  {
   "cell_type": "code",
   "execution_count": null,
   "metadata": {},
   "outputs": [],
   "source": [
    "def folder2pd(folder):\n",
    "    res = defaultdict(dict)\n",
    "    for f in folder.glob(\"locust-*.json\"):\n",
    "        uc = int(f.stem.split(\"-\")[-2])\n",
    "        reqsize = int(f.stem.split(\"-\")[-1])\n",
    "        d = {}\n",
    "        # locust data\n",
    "        j = json.load(f.open())\n",
    "        d[\"LocustP50\"] = j[\"current_response_time_percentile_50\"] / 1000\n",
    "        d[\"LocustP95\"] = j[\"current_response_time_percentile_95\"] / 1000\n",
    "        d[\"RPS\"] = j[\"total_rps\"]\n",
    "        d[\"Reqsize\"] = reqsize\n",
    "        # jaeger data\n",
    "        j = json.load((folder / f\"jaeger-uc-{uc}-{reqsize}.json\").open())\n",
    "        trace_data = defaultdict(lambda: [None, None])\n",
    "        for span in j[\"data\"]:\n",
    "            for s in span[\"spans\"]:\n",
    "                trace_id = s[\"traceID\"]\n",
    "                duration = s[\"duration\"]\n",
    "                if len(s[\"references\"]) == 0:\n",
    "                    # istio trace\n",
    "                    trace_data[trace_id][0] = float(duration)/1e6\n",
    "                else:\n",
    "                    # app trace\n",
    "                    trace_data[trace_id][1] = float(duration)/1e6\n",
    "        trace_difference = []\n",
    "        for (i, a) in trace_data.values():\n",
    "            if \"denyall\" in folder.name or \"contenfilter-and-acl\" in folder.name:\n",
    "                # single trace: request was blocked\n",
    "                if i is None:\n",
    "                    trace_difference.append(a)\n",
    "                else:\n",
    "                    trace_difference.append(i)\n",
    "                continue\n",
    "            if i is None or a is None:\n",
    "                continue\n",
    "            trace_difference.append(i-a)\n",
    "        try:\n",
    "            d[\"JIstioTimeAvg\"] = statistics.fmean(trace_difference)\n",
    "        except statistics.StatisticsError as e:\n",
    "            #print(f\"Warning: skipping {folder=} {uc=} {reqsize=}\", e)\n",
    "            if uc == 10 and reqsize == 0:\n",
    "                print(f\"Warning: skipping {folder=} {uc=} {reqsize=}\", e)\n",
    "                print(\"TD\", trace_difference)\n",
    "                print(trace_data)\n",
    "            continue\n",
    "        try:\n",
    "            d[\"JIstioTimeP50\"] = statistics.quantiles(trace_difference, n=2)[-1]\n",
    "        except statistics.StatisticsError as e:\n",
    "            print(f\"Error on {folder=} {uc=} {reqsize=} {trace_difference=}\", e)\n",
    "            raise e\n",
    "        d[\"JIstioTimeP75\"] = statistics.quantiles(trace_difference, n=4)[-1]\n",
    "        d[\"JIstioTimeP90\"] = statistics.quantiles(trace_difference, n=10)[-1]\n",
    "        d[\"JIstioTimeP99\"] = statistics.quantiles(trace_difference, n=100)[-1]\n",
    "        d[\"JIstioTimeMin\"] = min(trace_difference)\n",
    "        d[\"JIstioTimeMax\"] = max(trace_difference)\n",
    "        # resources data\n",
    "        j = json.load((folder / f\"resources-uc-{uc}-{reqsize}.json\").open())\n",
    "        d[\"CPU_milli\"] = int(j[\"cpu\"][:-1])\n",
    "        d[\"RAM_Mo\"] = int(j[\"ram\"][:-2])\n",
    "        res[(uc,reqsize)] = d\n",
    " \n",
    "    return pd.DataFrame(res.values())"
   ]
  },
  {
   "cell_type": "code",
   "execution_count": null,
   "metadata": {},
   "outputs": [],
   "source": [
    "folders = RESULTS_DIR.glob(\"*\")\n",
    "data = {f.name: folder2pd(f) for f in folders}\n",
    "\n",
    "data[\"cf-default-config\"]"
   ]
  },
  {
   "cell_type": "markdown",
   "metadata": {},
   "source": [
    "## Draw QPS vs time percentile\n",
    "As measured from locust"
   ]
  },
  {
   "cell_type": "code",
   "execution_count": null,
   "metadata": {},
   "outputs": [],
   "source": [
    "def qps_vs(col, args, ylim=None, filterstr=\"\"):\n",
    "    datalbls, vals = list(zip(*args.items()))\n",
    "    plotlbls = []\n",
    "    for idx, m in enumerate(vals):\n",
    "        for rs in sorted(m.Reqsize.unique()):\n",
    "            lbl = f\"{datalbls[idx]}-{rs}kB\"\n",
    "            if filterstr not in lbl:\n",
    "                # skip this line\n",
    "                continue\n",
    "            t = (m[m[\"Reqsize\"] == rs]).sort_values(by=[\"RPS\"])\n",
    "            p = plt.plot(t[\"RPS\"],t[col])\n",
    "            plotlbls.append(f\"{datalbls[idx]}-{rs}kB\")\n",
    "    plt.legend(plotlbls)\n",
    "    plt.xlabel(\"Actual RPS\")\n",
    "    plt.ylabel(f\"{col} (s)\")\n",
    "    if ylim:\n",
    "        plt.ylim(ylim)\n",
    "    plt.title(f\"RPS vs {col}\")\n",
    "\n",
    "def big_plot(*args, **kargs):\n",
    "    fig = plt.figure(figsize=(20,20), dpi=72)\n",
    "    qps_vs(*args, **kargs)"
   ]
  },
  {
   "cell_type": "code",
   "execution_count": null,
   "metadata": {},
   "outputs": [],
   "source": [
    "qps_vs(\"LocustP50\", data)"
   ]
  },
  {
   "cell_type": "code",
   "execution_count": null,
   "metadata": {},
   "outputs": [],
   "source": [
    "big_plot(\"LocustP95\", data)"
   ]
  },
  {
   "cell_type": "code",
   "execution_count": null,
   "metadata": {},
   "outputs": [],
   "source": [
    "def plot_all(args, lines=[[\"LocustP50\",\"LocustP95\"]], ylim=None, filterstr=\"\"):\n",
    "    h = len(lines)\n",
    "    w = max([len(cols) for cols in lines])\n",
    "    fig = plt.figure(figsize=(w*6, h*2), dpi= 100)\n",
    "    fig.set_facecolor(\"white\")\n",
    "    plt.subplots_adjust(top=2)\n",
    "    \n",
    "    for i, cols in enumerate(lines):\n",
    "        for j, col in enumerate(cols):\n",
    "            fig.add_subplot(h, w, 1+(i*w)+j)\n",
    "            qps_vs(col, args, filterstr=filterstr)"
   ]
  },
  {
   "cell_type": "code",
   "execution_count": null,
   "metadata": {},
   "outputs": [],
   "source": [
    "plot_all(data)"
   ]
  },
  {
   "cell_type": "markdown",
   "metadata": {},
   "source": [
    "## Draw QPS vs latency introduced by istio\n",
    "As measured from jaeger\n",
    "### Influence of the configuration, for a 0kB payload"
   ]
  },
  {
   "cell_type": "code",
   "execution_count": null,
   "metadata": {
    "scrolled": true
   },
   "outputs": [],
   "source": [
    "plot_all(data, lines=[[\"LocustP50\",\"LocustP95\"],[\"JIstioTimeP50\", \"JIstioTimeP90\", \"JIstioTimeP99\"],[\"CPU_milli\",\"RAM_Mo\"]], filterstr=\"-0kB\")"
   ]
  },
  {
   "cell_type": "markdown",
   "metadata": {},
   "source": [
    "### Effect of the payload size, for the default configuration"
   ]
  },
  {
   "cell_type": "code",
   "execution_count": null,
   "metadata": {},
   "outputs": [],
   "source": [
    "plot_all(data, lines=[[\"LocustP50\",\"LocustP95\"],[\"JIstioTimeP50\", \"JIstioTimeP90\", \"JIstioTimeP99\"],[\"CPU_milli\",\"RAM_Mo\"]], filterstr=\"default-config\")"
   ]
  },
  {
   "cell_type": "code",
   "execution_count": null,
   "metadata": {},
   "outputs": [],
   "source": [
    "plot_all(data, lines=[[\"LocustP50\",\"LocustP95\"],[\"JIstioTimeP50\", \"JIstioTimeP90\", \"JIstioTimeP99\"],[\"CPU_milli\",\"RAM_Mo\"]], filterstr=\"deny\")"
   ]
  }
 ],
 "metadata": {
  "kernelspec": {
   "display_name": "Python 3 (ipykernel)",
   "language": "python",
   "name": "python3"
  },
  "language_info": {
   "codemirror_mode": {
    "name": "ipython",
    "version": 3
   },
   "file_extension": ".py",
   "mimetype": "text/x-python",
   "name": "python",
   "nbconvert_exporter": "python",
   "pygments_lexer": "ipython3",
   "version": "3.10.7"
  }
 },
 "nbformat": 4,
 "nbformat_minor": 4
}
